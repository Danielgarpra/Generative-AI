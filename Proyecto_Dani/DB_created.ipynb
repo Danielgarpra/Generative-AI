{
 "cells": [
  {
   "cell_type": "markdown",
   "metadata": {},
   "source": [
    "### Creación de db, de tabla e insertar lo dicho por la API de cohere"
   ]
  },
  {
   "cell_type": "markdown",
   "metadata": {},
   "source": [
    "Creación de base de datos"
   ]
  },
  {
   "cell_type": "code",
   "execution_count": 53,
   "metadata": {},
   "outputs": [],
   "source": [
    "import pymysql\n",
    "import os\n",
    "from dotenv import load_dotenv\n",
    "import cohere\n",
    "\n",
    "\n",
    "load_dotenv();"
   ]
  },
  {
   "cell_type": "code",
   "execution_count": 72,
   "metadata": {},
   "outputs": [],
   "source": [
    "username = os.getenv(\"DB_USER\")\n",
    "password = os.getenv(\"DB_PASS\")\n",
    "host = os.getenv(\"DB_HOST\")\n",
    "port = os.getenv(\"DB_PORT\") "
   ]
  },
  {
   "cell_type": "code",
   "execution_count": 73,
   "metadata": {},
   "outputs": [],
   "source": [
    "db = pymysql.connect(host = host,\n",
    "                     user = username,\n",
    "                     password = password,\n",
    "                     cursorclass = pymysql.cursors.DictCursor\n",
    ")\n",
    "\n",
    "# El objeto cursor es el que ejecutará las queries y devolverá los resultados\n",
    "\n",
    "cursor = db.cursor()"
   ]
  },
  {
   "cell_type": "code",
   "execution_count": 59,
   "metadata": {},
   "outputs": [
    {
     "name": "stdout",
     "output_type": "stream",
     "text": [
      "MySQL version: {'VERSION()': '8.0.40'}\n"
     ]
    }
   ],
   "source": [
    "cursor.execute('SELECT VERSION()')\n",
    "version = cursor.fetchone()\n",
    "print(f'MySQL version: {version}')"
   ]
  },
  {
   "cell_type": "code",
   "execution_count": 19,
   "metadata": {},
   "outputs": [
    {
     "data": {
      "text/plain": [
       "1"
      ]
     },
     "execution_count": 19,
     "metadata": {},
     "output_type": "execute_result"
    }
   ],
   "source": [
    "create_db = '''CREATE DATABASE db_history'''\n",
    "cursor.execute(create_db)"
   ]
  },
  {
   "cell_type": "code",
   "execution_count": 74,
   "metadata": {},
   "outputs": [
    {
     "data": {
      "text/plain": [
       "[{'Database': 'db_history'},\n",
       " {'Database': 'information_schema'},\n",
       " {'Database': 'mysql'},\n",
       " {'Database': 'performance_schema'},\n",
       " {'Database': 'sys'}]"
      ]
     },
     "execution_count": 74,
     "metadata": {},
     "output_type": "execute_result"
    }
   ],
   "source": [
    "cursor.execute('SHOW DATABASES')\n",
    "cursor.fetchall()"
   ]
  },
  {
   "cell_type": "code",
   "execution_count": 75,
   "metadata": {},
   "outputs": [
    {
     "data": {
      "text/plain": [
       "0"
      ]
     },
     "execution_count": 75,
     "metadata": {},
     "output_type": "execute_result"
    }
   ],
   "source": [
    "# Para usar la BD  recien creada\n",
    "\n",
    "cursor.connection.commit()\n",
    "use_db = ''' USE db_history'''\n",
    "cursor.execute(use_db)"
   ]
  },
  {
   "cell_type": "code",
   "execution_count": 35,
   "metadata": {},
   "outputs": [
    {
     "data": {
      "text/plain": [
       "0"
      ]
     },
     "execution_count": 35,
     "metadata": {},
     "output_type": "execute_result"
    }
   ],
   "source": [
    "# crear una tabla que se llame interviews\n",
    "\n",
    "create_table = '''\n",
    "CREATE TABLE interviews (\n",
    "    id INT AUTO_INCREMENT,\n",
    "    session_id VARCHAR(255) NOT NULL,\n",
    "    tema VARCHAR(255) NOT NULL,\n",
    "    preguntas TEXT NOT NULL,\n",
    "    date TIMESTAMP DEFAULT CURRENT_TIMESTAMP,\n",
    "    primary key (id)\n",
    ")\n",
    "'''\n",
    "cursor.execute(create_table)"
   ]
  },
  {
   "cell_type": "code",
   "execution_count": 47,
   "metadata": {},
   "outputs": [
    {
     "data": {
      "text/plain": [
       "0"
      ]
     },
     "execution_count": 47,
     "metadata": {},
     "output_type": "execute_result"
    }
   ],
   "source": [
    "# crear una tabla que se llame interviews\n",
    "\n",
    "create_table = '''\n",
    "CREATE TABLE evaluations (\n",
    "    id INT AUTO_INCREMENT,\n",
    "    session_id VARCHAR(255) NOT NULL,\n",
    "    respuestas TEXT NOT NULL,\n",
    "    evaluaciones TEXT NOT NULL,\n",
    "    date TIMESTAMP DEFAULT CURRENT_TIMESTAMP,\n",
    "    primary key (id)\n",
    ")\n",
    "'''\n",
    "cursor.execute(create_table)"
   ]
  },
  {
   "cell_type": "code",
   "execution_count": 62,
   "metadata": {},
   "outputs": [
    {
     "data": {
      "text/plain": [
       "[{'Tables_in_db_history': 'evaluations'},\n",
       " {'Tables_in_db_history': 'interviews'}]"
      ]
     },
     "execution_count": 62,
     "metadata": {},
     "output_type": "execute_result"
    }
   ],
   "source": [
    "# checkear todas las tablas que tiene mi db\n",
    "cursor.execute('SHOW TABLES')\n",
    "cursor.fetchall()"
   ]
  },
  {
   "cell_type": "markdown",
   "metadata": {},
   "source": [
    "***Pasamos a insertar los datos sacados por la API***"
   ]
  },
  {
   "cell_type": "code",
   "execution_count": 54,
   "metadata": {},
   "outputs": [],
   "source": [
    "co = cohere.ClientV2(\"O7Cjn2pyi02rLIJE9azktO8hRehHboQjeA1HM9fQ\")\n"
   ]
  },
  {
   "cell_type": "code",
   "execution_count": 55,
   "metadata": {},
   "outputs": [],
   "source": [
    "prompt='Un entrevistador ha realizado la siguiente pregunta: ¿Puede describir un caso en el que haya utilizado técnicas de aprendizaje automático para resolver un problema del mundo real y cuáles fueron los resultados?. Ante esa pregunta yo he respondido esto:para predecir un fallo de una máquina. Evaluame cómo lo he hecho, diciéndome los errores. Gracias'"
   ]
  },
  {
   "cell_type": "code",
   "execution_count": null,
   "metadata": {},
   "outputs": [],
   "source": [
    "response = co.chat(\n",
    "    model=\"command-r-plus\",\n",
    "    messages=[{\"role\": \"user\", \"content\": \"Genera 10 preguntas de entrevista sobre data science\"}]\n",
    ")\n",
    "preguntas = [msg.text for msg in response.message.content]"
   ]
  },
  {
   "cell_type": "code",
   "execution_count": 56,
   "metadata": {},
   "outputs": [
    {
     "name": "stdout",
     "output_type": "stream",
     "text": [
      "Un entrevistador ha realizado la siguiente pregunta: ¿Puede describir un caso en el que haya utilizado técnicas de aprendizaje automático para resolver un problema del mundo real y cuáles fueron los resultados?. Ante esa pregunta yo he respondido esto:para predecir un fallo de una máquina. Evaluame cómo lo he hecho, diciéndome los errores. Gracias\n",
      "Su respuesta es un poco breve y vaga. Aquí hay algunos comentarios y sugerencias para mejorarla:\n",
      "\n",
      "Contexto: Proporcione más contexto sobre el problema que estaba tratando de resolver. ¿Qué tipo de máquina era y en qué contexto se utilizaba? ¿Por qué era importante predecir su falla?\n",
      "\n",
      "Detalles técnicos: Explique brevemente las técnicas de aprendizaje automático específicas que utilizó para abordar este problema. Por ejemplo, ¿utilizó modelos de clasificación, regresión o series de tiempo? ¿Cómo preparó y procesó los datos para el modelo?\n",
      "\n",
      "Resultados: Describa los resultados con más detalle. ¿Cuán preciso fue su modelo en la predicción de fallas? ¿Cómo se comparó el rendimiento del modelo con otros enfoques o con el estado anterior? ¿Se implementó el modelo en un entorno de producción y tuvo algún impacto tangible?\n",
      "\n",
      "Aquí hay una versión revisada de su respuesta que incorpora estos comentarios:\n",
      "\n",
      "\"Sí, recientemente trabajé en un proyecto para predecir fallas en maquinaria pesada utilizada en la construcción. Estas máquinas son costosas de reparar y mantener, por lo que predecir sus fallas es crucial para minimizar el tiempo de inactividad y los costos asociados.\n",
      "\n",
      "Utilicé técnicas de aprendizaje automático, específicamente modelos de series de tiempo, para analizar los datos de sensores recopilados de estas máquinas durante su operación. Estos datos incluyeron lecturas de temperatura, presión, vibración y otros parámetros relevantes. Preparé y limpié los datos, manejé valores faltantes y los escalé adecuadamente para su uso en el modelo.\n",
      "\n",
      "Entrené un modelo de redes neuronales recurrentes (RNN) para predecir la probabilidad de falla de una máquina en un momento dado. Dividí los datos en conjuntos de entrenamiento y prueba, y afiné los hiperparámetros para optimizar el rendimiento del modelo.\n",
      "\n",
      "Los resultados fueron prometedores; nuestro modelo pudo predecir fallas con una precisión del 90%. Esto representó una mejora significativa con respecto a los métodos de predicción tradicionales que se utilizaban anteriormente. La empresa implementó el modelo en su sistema de monitoreo en tiempo real, lo que les permitió realizar un mantenimiento preventivo y reducir significativamente los costos de reparación y tiempo de inactividad no planificado.\n",
      "\n",
      "Este proyecto demostró el poder del aprendizaje automático para resolver problemas del mundo real y tuvo un impacto tangible en las operaciones de la empresa\".\n",
      "\n",
      "Esta respuesta revisada proporciona más detalles y contexto, destacando el problema, las técnicas utilizadas y los resultados obtenidos. También muestra cómo el aprendizaje automático se tradujo en beneficios prácticos para la empresa.\n"
     ]
    }
   ],
   "source": [
    "response = co.chat(\n",
    "    model=\"command-r-plus\", \n",
    "    messages=[{\"role\": \"user\", \"content\": prompt}])\n",
    "\n",
    "print(prompt)\n",
    "print(response.message.content[0].text)"
   ]
  },
  {
   "cell_type": "code",
   "execution_count": 21,
   "metadata": {},
   "outputs": [
    {
     "data": {
      "text/plain": [
       "1"
      ]
     },
     "execution_count": 21,
     "metadata": {},
     "output_type": "execute_result"
    }
   ],
   "source": [
    "insert_data = '''INSERT INTO history (prompt, answer) VALUES (%s, %s)'''\n",
    "cursor.execute(insert_data, (prompt, response.message.content[0].text))\n"
   ]
  },
  {
   "cell_type": "code",
   "execution_count": 77,
   "metadata": {},
   "outputs": [
    {
     "name": "stdout",
     "output_type": "stream",
     "text": [
      "[{'id': 1, 'session_id': 'aeadb9a6-0316-4fb2-851d-aee408de263e', 'respuestas': 'Haciendo un Eda. \\nUso la lógica.\\nEn el máster en un trabajo.', 'evaluaciones': '¡Seguro! Aquí hay una breve evaluación de tus respuestas:\\n\\n1. \"Haciendo un Eda\": Parece que estás sugiriendo que realizas un \"Análisis Exploratorio de Datos\" (EDA) para abordar problemas complejos de análisis de datos. Aunque el EDA es una técnica valiosa, puede ser útil proporcionar más detalles sobre tu proceso. Por ejemplo, ¿cómo decides qué técnicas analíticas utilizar? ¿Cóes una estructura o un marco de trabajo específico que sigues? Proporcionar un ejemplo o dos de cómo has aplicado con éxito el EDA en el pasado podría ayudar a fortalecer tu respuesta.\\n\\n2. \"Uso la lógica\": Esta respuesta es concisa, pero puede ser beneficioso proporcionar un poco más de contexto. Podrías mencionar técnicas o enfoques específicos que utilices para garantizar la precisión, como la validación cruzada, el control de calidad de datos o el uso de múltiples fuentes de datos para verificar tus hallazgos.\\n\\n3. \"En el máster en un trabajo\": Esta respuesta es un poco vaga. Sería útil proporcionar un ejemplo más concreto de una situación en la que tuviste que comunicar información compleja de análisis de datos a un público no técnico. Describe brevemente el proyecto, el desafío que enfrentaste al presentar la información y cómo adaptaste tu presentación para que fuera accesible para la audiencia.\\n\\nEn general, tus respuestas son cortas y podrían beneficiarse de más detalles y ejemplos concretos. Al proporcionar una visión más profunda de tu proceso, técnicas y experiencias, puedes demostrar una comprensión más sólida y dejar una impresión más duradera en el entrevistador.', 'date': datetime.datetime(2025, 3, 2, 22, 51, 46)}, {'id': 2, 'session_id': '1b678223-cd2f-4f15-8fa8-6f47660d7aa6', 'respuestas': 'Haciendo un Eda. \\nUso la lógica.\\nEn el máster en un trabajo.', 'evaluaciones': '¡Seguro! Aquí hay una breve evaluación de tus respuestas:\\n\\n1. \"Uso la lógica\": Aunque la lógica es definitivamente una parte importante del análisis de datos, puede ser útil proporcionar un poco más de detalle. Podrías mencionar pasos específicos, como explorar los datos, identificar tendencias y relaciones, y formular hipótesis.\\n\\n2. \"En el máster en un trabajo\": Esta respuesta es un poco vaga y no proporciona detalles específicos. Sería mejor si pudieras describir brevemente el proyecto, las técnicas de visualización específicas que utilizaste y cómo ayudaron a comunicar la información compleja.\\n\\n3. \"Haciendo un Eda\": Supongo que te refieres a realizar un Análisis Exploratorio de Datos (EDA). Esto es definitivamente una buena estrategia para evaluar datos, pero podrías explicar más detalladamente tu proceso. Menciona cómo utilizas estadísticas resumidas, visualizaciones y pruebas de hipótesis para evaluar la calidad y confiabilidad de los datos.\\n\\nEn general, tus respuestas son concisas, pero podrían beneficiarse de un poco más de detalle y ejemplos específicos. Al proporcionar información más detallada, puedes demostrar una comprensión más profunda de los temas y destacar tus habilidades y experiencia de manera más efectiva.', 'date': datetime.datetime(2025, 3, 2, 22, 54, 40)}]\n"
     ]
    }
   ],
   "source": [
    "sql = '''SELECT * FROM evaluations'''\n",
    "cursor.execute(sql)\n",
    "mi_lista = cursor.fetchall()\n",
    "print(mi_lista)"
   ]
  },
  {
   "cell_type": "code",
   "execution_count": 64,
   "metadata": {},
   "outputs": [
    {
     "data": {
      "text/plain": [
       "[]"
      ]
     },
     "execution_count": 64,
     "metadata": {},
     "output_type": "execute_result"
    }
   ],
   "source": [
    "# Borrar la data de la tabla history\n",
    "cursor.execute('TRUNCATE TABLE interviews')\n",
    "cursor.execute('TRUNCATE TABLE evaluations')\n",
    "cursor.fetchall()"
   ]
  },
  {
   "cell_type": "markdown",
   "metadata": {},
   "source": [
    "***Guardar cambios***"
   ]
  },
  {
   "cell_type": "code",
   "execution_count": 8,
   "metadata": {},
   "outputs": [],
   "source": [
    "db.commit()"
   ]
  },
  {
   "cell_type": "markdown",
   "metadata": {},
   "source": [
    "***Cerrar db***"
   ]
  },
  {
   "cell_type": "code",
   "execution_count": 78,
   "metadata": {},
   "outputs": [],
   "source": [
    "# Cerrar conexión mysql\n",
    "db.close()"
   ]
  }
 ],
 "metadata": {
  "kernelspec": {
   "display_name": "Python 3",
   "language": "python",
   "name": "python3"
  },
  "language_info": {
   "codemirror_mode": {
    "name": "ipython",
    "version": 3
   },
   "file_extension": ".py",
   "mimetype": "text/x-python",
   "name": "python",
   "nbconvert_exporter": "python",
   "pygments_lexer": "ipython3",
   "version": "3.11.0"
  }
 },
 "nbformat": 4,
 "nbformat_minor": 2
}
